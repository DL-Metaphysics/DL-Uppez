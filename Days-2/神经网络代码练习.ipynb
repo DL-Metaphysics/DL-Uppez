{
 "cells": [
  {
   "cell_type": "markdown",
   "metadata": {},
   "source": [
    "# 三层BP神经网络"
   ]
  },
  {
   "cell_type": "code",
   "execution_count": 3,
   "metadata": {},
   "outputs": [
    {
     "name": "stdout",
     "output_type": "stream",
     "text": [
      "误差 0.94250\n",
      "误差 0.04287\n",
      "误差 0.00348\n",
      "误差 0.00164\n",
      "误差 0.00106\n",
      "误差 0.00078\n",
      "误差 0.00125\n",
      "误差 0.00053\n",
      "误差 0.00044\n",
      "误差 0.00038\n",
      "[0, 0] -> [0.03668584043139609]\n",
      "[0, 1] -> [0.9816625517128087]\n",
      "[1, 0] -> [0.9815264813097478]\n",
      "[1, 1] -> [-0.03146072993485337]\n"
     ]
    }
   ],
   "source": [
    "import math\n",
    "import random\n",
    "import string\n",
    "\n",
    "random.seed(0)\n",
    "\n",
    "# 生成区间[a, b)内的随机数\n",
    "def rand(a, b):\n",
    "    return (b-a)*random.random() + a\n",
    "\n",
    "# 生成大小 I*J 的矩阵，默认零矩阵 (当然，亦可用 NumPy 提速)\n",
    "def makeMatrix(I, J, fill=0.0):\n",
    "    m = []\n",
    "    for i in range(I):\n",
    "        m.append([fill]*J)\n",
    "    return m\n",
    "\n",
    "# 函数 sigmoid，这里采用 tanh，因为看起来要比标准的 1/(1+e^-x) 漂亮些\n",
    "def sigmoid(x):\n",
    "    return math.tanh(x)\n",
    "\n",
    "# 函数 sigmoid 的派生函数, 为了得到输出 (即：y)\n",
    "def dsigmoid(y):\n",
    "    return 1.0 - y**2\n",
    "\n",
    "class NN:\n",
    "    ''' 三层反向传播神经网络 '''\n",
    "    def __init__(self, ni, nh, no):\n",
    "        # 输入层、隐藏层、输出层的节点（数）\n",
    "        self.ni = ni + 1 # 增加一个偏差节点\n",
    "        self.nh = nh\n",
    "        self.no = no\n",
    "\n",
    "        # 激活神经网络的所有节点（向量）\n",
    "        self.ai = [1.0]*self.ni\n",
    "        self.ah = [1.0]*self.nh\n",
    "        self.ao = [1.0]*self.no\n",
    "        \n",
    "        # 建立权重（矩阵）\n",
    "        self.wi = makeMatrix(self.ni, self.nh)\n",
    "        self.wo = makeMatrix(self.nh, self.no)\n",
    "        # 设为随机值\n",
    "        for i in range(self.ni):\n",
    "            for j in range(self.nh):\n",
    "                self.wi[i][j] = rand(-0.2, 0.2)\n",
    "        for j in range(self.nh):\n",
    "            for k in range(self.no):\n",
    "                self.wo[j][k] = rand(-2.0, 2.0)\n",
    "\n",
    "        # 最后建立动量因子（矩阵）\n",
    "        self.ci = makeMatrix(self.ni, self.nh)\n",
    "        self.co = makeMatrix(self.nh, self.no)\n",
    "\n",
    "    def update(self, inputs):\n",
    "        if len(inputs) != self.ni-1:\n",
    "            raise ValueError('与输入层节点数不符！')\n",
    "\n",
    "        # 激活输入层\n",
    "        for i in range(self.ni-1):\n",
    "            #self.ai[i] = sigmoid(inputs[i])\n",
    "            self.ai[i] = inputs[i]\n",
    "\n",
    "        # 激活隐藏层\n",
    "        for j in range(self.nh):\n",
    "            sum = 0.0\n",
    "            for i in range(self.ni):\n",
    "                sum = sum + self.ai[i] * self.wi[i][j]\n",
    "            self.ah[j] = sigmoid(sum)\n",
    "\n",
    "        # 激活输出层\n",
    "        for k in range(self.no):\n",
    "            sum = 0.0\n",
    "            for j in range(self.nh):\n",
    "                sum = sum + self.ah[j] * self.wo[j][k]\n",
    "            self.ao[k] = sigmoid(sum)\n",
    "\n",
    "        return self.ao[:]\n",
    "\n",
    "    def backPropagate(self, targets, N, M):\n",
    "        ''' 反向传播 '''\n",
    "        if len(targets) != self.no:\n",
    "            raise ValueError('与输出层节点数不符！')\n",
    "\n",
    "        # 计算输出层的误差\n",
    "        output_deltas = [0.0] * self.no\n",
    "        for k in range(self.no):\n",
    "            error = targets[k]-self.ao[k]\n",
    "            output_deltas[k] = dsigmoid(self.ao[k]) * error\n",
    "\n",
    "        # 计算隐藏层的误差\n",
    "        hidden_deltas = [0.0] * self.nh\n",
    "        for j in range(self.nh):\n",
    "            error = 0.0\n",
    "            for k in range(self.no):\n",
    "                error = error + output_deltas[k]*self.wo[j][k]\n",
    "            hidden_deltas[j] = dsigmoid(self.ah[j]) * error\n",
    "\n",
    "        # 更新输出层权重\n",
    "        for j in range(self.nh):\n",
    "            for k in range(self.no):\n",
    "                change = output_deltas[k]*self.ah[j]\n",
    "                self.wo[j][k] = self.wo[j][k] + N*change + M*self.co[j][k]\n",
    "                self.co[j][k] = change\n",
    "                #print(N*change, M*self.co[j][k])\n",
    "\n",
    "        # 更新输入层权重\n",
    "        for i in range(self.ni):\n",
    "            for j in range(self.nh):\n",
    "                change = hidden_deltas[j]*self.ai[i]\n",
    "                self.wi[i][j] = self.wi[i][j] + N*change + M*self.ci[i][j]\n",
    "                self.ci[i][j] = change\n",
    "\n",
    "        # 计算误差\n",
    "        error = 0.0\n",
    "        for k in range(len(targets)):\n",
    "            error = error + 0.5*(targets[k]-self.ao[k])**2\n",
    "        return error\n",
    "\n",
    "    def test(self, patterns):\n",
    "        for p in patterns:\n",
    "            print(p[0], '->', self.update(p[0]))\n",
    "\n",
    "    def weights(self):\n",
    "        print('输入层权重:')\n",
    "        for i in range(self.ni):\n",
    "            print(self.wi[i])\n",
    "        print()\n",
    "        print('输出层权重:')\n",
    "        for j in range(self.nh):\n",
    "            print(self.wo[j])\n",
    "\n",
    "    def train(self, patterns, iterations=1000, N=0.5, M=0.1):\n",
    "        # N: 学习速率(learning rate)\n",
    "        # M: 动量因子(momentum factor)\n",
    "        for i in range(iterations):\n",
    "            error = 0.0\n",
    "            for p in patterns:\n",
    "                inputs = p[0]\n",
    "                targets = p[1]\n",
    "                self.update(inputs)\n",
    "                error = error + self.backPropagate(targets, N, M)\n",
    "            if i % 100 == 0:\n",
    "                print('误差 %-.5f' % error)\n",
    "\n",
    "\n",
    "def demo():\n",
    "    # 一个演示：教神经网络学习逻辑异或（XOR）------------可以换成你自己的数据试试\n",
    "    pat = [\n",
    "        [[0,0], [0]],\n",
    "        [[0,1], [1]],\n",
    "        [[1,0], [1]],\n",
    "        [[1,1], [0]]\n",
    "    ]\n",
    "\n",
    "    # 创建一个神经网络：输入层有两个节点、隐藏层有两个节点、输出层有一个节点\n",
    "    n = NN(2, 2, 1)\n",
    "    # 用一些模式训练它\n",
    "    n.train(pat)\n",
    "    # 测试训练的成果（不要吃惊哦）\n",
    "    n.test(pat)\n",
    "    # 看看训练好的权重（当然可以考虑把训练好的权重持久化）\n",
    "    #n.weights()\n",
    "    \n",
    "    \n",
    "if __name__ == '__main__':\n",
    "    demo()"
   ]
  },
  {
   "cell_type": "markdown",
   "metadata": {},
   "source": [
    "[神经网络学习(3)BP神经网络](https://blog.csdn.net/qq_42633819/article/details/82903871)"
   ]
  },
  {
   "cell_type": "markdown",
   "metadata": {},
   "source": [
    "# 二层神经网络"
   ]
  },
  {
   "cell_type": "code",
   "execution_count": 8,
   "metadata": {
    "ExecuteTime": {
     "end_time": "2019-07-20T01:51:42.698955Z",
     "start_time": "2019-07-20T01:51:41.300719Z"
    }
   },
   "outputs": [
    {
     "name": "stdout",
     "output_type": "stream",
     "text": [
      "测试结果：\n",
      "Outout after Training:\n",
      "[[0.00301758]\n",
      " [0.00246109]\n",
      " [0.99799161]\n",
      " [0.99753723]]\n"
     ]
    }
   ],
   "source": [
    "# -*- coding:utf-8 -*-\n",
    "#! python3\n",
    "import numpy as np\n",
    "#sigmoid function\n",
    "def nonlin(x, deriv = False):\n",
    "    if(deriv == True):\n",
    "        return x*(1-x)\n",
    "    else:\n",
    "        return 1/(1+np.exp(-x))\n",
    "#input dataset\n",
    "x = np.array([\n",
    "    [0,0,1],\n",
    "    [0,1,1],\n",
    "    [1,0,1],\n",
    "    [1,1,1]])\n",
    "#output dataset\n",
    "y = np.array([[0,0,1,1]]).T\n",
    "np.random.seed(1)\n",
    "#init weight value\n",
    "syn0 = 2*np.random.random((3,1))-1\n",
    "print (\"测试结果：\")\n",
    "for iter in range(100000):\n",
    "    l0 = x       #the first layer,and the input layer\n",
    "    l1 = nonlin(np.dot(l0,syn0)) #the second layer,and the output layer\n",
    "    l1_error = y-l1\n",
    "    l1_delta = l1_error*nonlin(l1,True)\n",
    "    syn0 += np.dot(l0.T, l1_delta)\n",
    "print(\"Outout after Training:\")\n",
    "print(l1)"
   ]
  },
  {
   "cell_type": "markdown",
   "metadata": {},
   "source": [
    "这里，\n",
    "- l0:输入层\n",
    "- l1:输出层\n",
    "- syn0:初始权值\n",
    "- l1_error:误差\n",
    "- l1_delta:误差校正系数\n",
    "- func nonlin:sigmoid函数"
   ]
  },
  {
   "cell_type": "markdown",
   "metadata": {},
   "source": [
    "# 三层神经网络"
   ]
  },
  {
   "cell_type": "code",
   "execution_count": 5,
   "metadata": {
    "ExecuteTime": {
     "end_time": "2019-07-20T01:27:32.239392Z",
     "start_time": "2019-07-20T01:27:30.489071Z"
    }
   },
   "outputs": [
    {
     "name": "stdout",
     "output_type": "stream",
     "text": [
      "测试结果：\n",
      "Error:-0.011159308057659939\n",
      "Error:-0.0006960140488302597\n",
      "Error:-0.00048340703705386815\n",
      "Error:-0.00039386976564297917\n",
      "Error:-0.00034149882912280164\n",
      "Error:-0.00030610659285774835\n",
      "outout after Training:\n",
      "[[0.00395374]\n",
      " [0.99568925]\n",
      " [0.9967036 ]\n",
      " [0.00477395]]\n"
     ]
    }
   ],
   "source": [
    "# -*- coding:utf-8 -*-\n",
    "#! python3\n",
    "import numpy as np\n",
    "def nonlin(x, deriv = False):\n",
    "    if(deriv == True):\n",
    "        return x*(1-x)\n",
    "    else:\n",
    "        return 1/(1+np.exp(-x))\n",
    "#input dataset\n",
    "X = np.array([\n",
    "    [0,0,1],\n",
    "    [0,1,1],\n",
    "    [1,0,1],\n",
    "    [1,1,1]])\n",
    "#output dataset\n",
    "y = np.array([[0,1,1,0]]).T\n",
    "syn0 = 2*np.random.random((3,4)) - 1 #the first-hidden layer weight value\n",
    "syn1 = 2*np.random.random((4,1)) - 1 #the hidden-output layer weight value\n",
    "print (\"测试结果：\")\n",
    "for j in range(60000):\n",
    "    l0 = X      #the first layer,and the input layer\n",
    "    l1 = nonlin(np.dot(l0,syn0)) #the second layer,and the hidden layer\n",
    "    l2 = nonlin(np.dot(l1,syn1)) #the third layer,and the output layer\n",
    "    l2_error = y-l2  #the hidden-output layer error\n",
    "    if(j%10000) == 0:\n",
    "        print(\"Error:\"+str(np.mean(l2_error)))\n",
    "    l2_delta = l2_error*nonlin(l2,deriv = True)\n",
    "    l1_error = l2_delta.dot(syn1.T)  #the first-hidden layer error\n",
    "    l1_delta = l1_error*nonlin(l1,deriv = True)\n",
    "    syn1 += l1.T.dot(l2_delta)\n",
    "    syn0 += l0.T.dot(l1_delta)\n",
    "print(\"outout after Training:\")\n",
    "print(l2)"
   ]
  },
  {
   "cell_type": "code",
   "execution_count": 16,
   "metadata": {
    "ExecuteTime": {
     "end_time": "2019-07-20T02:31:39.307036Z",
     "start_time": "2019-07-20T02:31:26.722100Z"
    }
   },
   "outputs": [
    {
     "data": {
      "image/png": "[encoded data removed]",
      "text/plain": [
       "<Figure size 432x288 with 1 Axes>"
      ]
     },
     "metadata": {
      "needs_background": "light"
     },
     "output_type": "display_data"
    },
    {
     "name": "stdout",
     "output_type": "stream",
     "text": [
      "[0.0131328  0.98680876]\n",
      "17126\n",
      "9.999213376027056e-06\n"
     ]
    }
   ],
   "source": [
    "import numpy as np\n",
    "\n",
    "import matplotlib.pyplot as plt\n",
    "\n",
    "import math\n",
    "\n",
    "%matplotlib inline\n",
    "\n",
    "x=np.array([0.05,0.10])\n",
    "\n",
    "y=np.array([[0.15,0.25],[0.2,0.3]])\n",
    "\n",
    "y1=np.array([[0.4,0.5],[0.45,0.55]])\n",
    "r=np.array([0.01,0.99])\n",
    "\n",
    "b=0.35\n",
    "\n",
    "b1=0.6\n",
    "\n",
    "q=0.5#学习率\n",
    "\n",
    "def neth(x,y,b):\n",
    "\n",
    "    return np.dot(x,y)+b\n",
    "\n",
    "def outh():\n",
    "\n",
    "    outh=[]\n",
    "\n",
    "    for i in range(len(y[0])):\n",
    "\n",
    "        a=1/(math.exp(-neth(x,y,b)[i])+1)\n",
    "\n",
    "        outh.append(a)\n",
    "\n",
    "    return np.array(outh)\n",
    "\n",
    "def neto():\n",
    "\n",
    "    return np.dot(outh(),y1)+b1\n",
    "\n",
    "def outo():\n",
    "\n",
    "    outo=[]\n",
    "\n",
    "    for i in range(len(y1[0])):\n",
    "\n",
    "        a=1/(math.exp(-neto()[i])+1)\n",
    "        outo.append(a)\n",
    "\n",
    "    return np.array(outo)\n",
    "o=0\n",
    "O=[]\n",
    "result=[]\n",
    "#梯度下降\n",
    "while True:\n",
    "  o=o+1\n",
    "  dif=[[0,0],[0,0]]\n",
    "  dif1=[[0,0],\n",
    "      [0,0]]\n",
    "  a=0\n",
    "#对w5-w8进行求导\n",
    "  for i in range(len(y1)):\n",
    "    for j in range(len(y1[i])):\n",
    "      dif1[i][j]=(-(r[j]-outo()[j]))*(outo()[j]*(1-outo()[j]))*(outh()[i])\n",
    "      y1[i][j]=y1[i][j]-q*dif1[i][j]\n",
    "#对w1-w4进行求导\n",
    "  for i in range(len(y)):\n",
    "    for j in range(len(outo())):\n",
    "      a=a+(-(r[j]-outo()[j]))*outo()[j]*(1-outo()[j])*y1[i][j]\n",
    "    for k in range(len(y[i])):\n",
    "      dif[i][k]=a*(outh()[k]*(1-outh()[k]))*x[i]\n",
    "      y[i][k]=y[i][k]-q*dif[i][k]\n",
    "  e=np.sum((r-outo())**2/2)#总误差\n",
    "  result.append(e)\n",
    "  O.append(o)\n",
    "  if e<0.00001:\n",
    "    break\n",
    "plt.plot(O,result)\n",
    "plt.show()\n",
    "print(outo())\n",
    "print(o)\n",
    "print(e)"
   ]
  },
  {
   "cell_type": "markdown",
   "metadata": {},
   "source": [
    "# 自练习代码书写"
   ]
  },
  {
   "cell_type": "markdown",
   "metadata": {},
   "source": [
    "## 只运行一次神经网络"
   ]
  },
  {
   "cell_type": "code",
   "execution_count": 22,
   "metadata": {
    "ExecuteTime": {
     "end_time": "2019-07-20T03:38:52.757512Z",
     "start_time": "2019-07-20T03:38:52.700665Z"
    }
   },
   "outputs": [
    {
     "name": "stdout",
     "output_type": "stream",
     "text": [
      "[0.1499785312076401, 0.19995706241528025, 0.24996389283843035, 0.2999277856768607]\n",
      "[0.3914517132698702, 0.4414077852191141, 0.5045642655167523, 0.5545877204257433]\n",
      "[0.6411465421456791, 0.6481858933602679]\n"
     ]
    }
   ],
   "source": [
    "#结合推导公式的代码,旨在建立一个3层神经网络(输入层节点数为2,隐含层节点数为2,输出层节点数为2)\n",
    "#引库\n",
    "import numpy as np\n",
    "import matplotlib.pyplot as plt\n",
    "#嵌入图片\n",
    "%matplotlib inline\n",
    "\n",
    "#输入层数据\n",
    "i = [0.05,0.10]\n",
    "#输入层到隐含层的权重\n",
    "w1 = [0.15,0.20,0.25,0.30]\n",
    "#隐含层到输出层的权重\n",
    "w2 = [0.40,0.45,0.50,0.55]\n",
    "#输入层到隐含层的偏置\n",
    "b1 = 0.35\n",
    "#隐含层到输出层的偏置\n",
    "b2 = 0.6\n",
    "#原始的结果\n",
    "y = [0.01,0.99]\n",
    "#为第一二层运行的结果建立列表\n",
    "out_one = []\n",
    "out_two = []\n",
    "\n",
    "out_three = []\n",
    "out_four =[]\n",
    "#设置学习率\n",
    "alpha = 0.1\n",
    "#为我们程序输出的结果建个列表存放数据\n",
    "y_pre = []\n",
    "\n",
    "#-----------前向传播-------------\n",
    "#输入层--->隐含层\n",
    "net1 = i[0]*w1[0] + b1\n",
    "net2 = i[1]*w1[1] + b1\n",
    "out1 = 1/(1+np.exp(-net1))\n",
    "out_one.append(out1)\n",
    "out2 = 1/(1+np.exp(-net2))\n",
    "out_one.append(out2)\n",
    "#隐含层--->输出层\n",
    "net3 = out_one[0]*w2[0] + b1\n",
    "net4 = out_one[1]*w2[1] + b1\n",
    "out3 = 1/(1+np.exp(-net3))\n",
    "out_two.append(out3)\n",
    "out4 = 1/(1+np.exp(-net4))\n",
    "out_two.append(out4)\n",
    "#-------------完成----------------  \n",
    "  \n",
    "'''  \n",
    "----------计算误差---------------\n",
    "Etotal = E1 + E2\n",
    "E = 0.5*(target - out)^2\n",
    "'''\n",
    "E = 0.5*(y[0] - out_two[0])**2 + 0.5*(y[1] - out_two[1])**2\n",
    "#-------------完成-----------------\n",
    "\n",
    "\n",
    "#----------反向传播---------------\n",
    "#输出层--->隐含层\n",
    "pd5 = -(y[0] - out_two[0])*out_two[0]*(1-out_two[0])*out_one[0]\n",
    "pd6 = -(y[0] - out_two[0])*out_two[0]*(1-out_two[0])*out_one[1]\n",
    "pd7 = -(y[1] - out_two[1])*out_two[1]*(1-out_two[1])*out_one[0]\n",
    "pd8 = -(y[1] - out_two[1])*out_two[1]*(1-out_two[1])*out_one[1]\n",
    "#第二层权值更新\n",
    "w2[0] = w2[0] - alpha*pd5\n",
    "w2[1] = w2[1] - alpha*pd6\n",
    "w2[2] = w2[2] - alpha*pd7\n",
    "w2[3] = w2[3] - alpha*pd8\n",
    "\n",
    "#隐含层--->输入层\n",
    "F1 = -(y[0] - out_two[0])*out_two[0]*(1-out_two[0])\n",
    "F2 = -(y[1] - out_two[1])*out_two[1]*(1-out_two[1])\n",
    "pd1 = (F1*w2[0] + F2*w2[2])*out_one[0]*(1 - out_one[0])*i[0]\n",
    "pd2 = (F1*w2[0] + F2*w2[2])*out_one[0]*(1 - out_one[0])*i[1]\n",
    "pd3 = (F1*w2[1] + F2*w2[1])*out_one[1]*(1 - out_one[1])*i[0]\n",
    "pd4 = (F1*w2[1] + F2*w2[1])*out_one[1]*(1 - out_one[1])*i[1]\n",
    "#第一层权值更新\n",
    "w1[0] = w1[0] - alpha*pd1\n",
    "w1[1] = w1[1] - alpha*pd2\n",
    "w1[2] = w1[2] - alpha*pd3\n",
    "w1[3] = w1[3] - alpha*pd4\n",
    "#-----------完成-------------------\n",
    "\n",
    "print(w1)\n",
    "print(w2)\n",
    "\n",
    "#-----------二次前向传播-------------\n",
    "#输入层--->隐含层\n",
    "net5 = i[0]*w1[0] + b1\n",
    "net6 = i[1]*w1[1] + b1\n",
    "out5 = 1/(1+np.exp(-net5))\n",
    "out_three.append(out5)\n",
    "out6 = 1/(1+np.exp(-net6))\n",
    "out_three.append(out6)\n",
    "#隐含层--->输出层\n",
    "net7 = out_one[0]*w2[0] + b1\n",
    "net8 = out_one[1]*w2[1] + b1\n",
    "out7 = 1/(1+np.exp(-net7))\n",
    "out_four.append(out7)\n",
    "out8 = 1/(1+np.exp(-net8))\n",
    "out_four.append(out8)\n",
    "#-------------完成----------------  \n",
    "\n",
    "print(out_four)"
   ]
  },
  {
   "cell_type": "markdown",
   "metadata": {},
   "source": [
    "## 运行一万次神经网络"
   ]
  },
  {
   "cell_type": "code",
   "execution_count": 23,
   "metadata": {
    "ExecuteTime": {
     "end_time": "2019-07-20T03:47:33.788073Z",
     "start_time": "2019-07-20T03:47:33.220664Z"
    }
   },
   "outputs": [
    {
     "name": "stdout",
     "output_type": "stream",
     "text": [
      "最终O1的结果为: 0.9943957071639503\n",
      "最终O2的结果为: 1.707242813286684e-11\n"
     ]
    }
   ],
   "source": [
    "#结合推导公式的代码,旨在建立一个3层神经网络(输入层节点数为2,隐含层节点数为2,输出层节点数为2)\n",
    "#引库\n",
    "import numpy as np\n",
    "import matplotlib.pyplot as plt\n",
    "#嵌入图片\n",
    "%matplotlib inline\n",
    "\n",
    "#输入层数据\n",
    "i = [0.05,0.10]\n",
    "#输入层到隐含层的权重\n",
    "w1 = [0.15,0.20,0.25,0.30]\n",
    "#隐含层到输出层的权重\n",
    "w2 = [0.40,0.45,0.50,0.55]\n",
    "#输入层到隐含层的偏置\n",
    "b1 = 0.35\n",
    "#隐含层到输出层的偏置\n",
    "b2 = 0.6\n",
    "#原始的结果\n",
    "y = [0.01,0.99]\n",
    "#为第一二层运行的结果建立列表\n",
    "out_one = []\n",
    "out_two = []\n",
    "\n",
    "out_three = []\n",
    "out_four =[]\n",
    "#设置学习率\n",
    "alpha = 0.1\n",
    "\n",
    "count = 0\n",
    "\n",
    "while True:\n",
    "  #-----------前向传播-------------\n",
    "  #输入层--->隐含层\n",
    "  net1 = i[0]*w1[0] + b1\n",
    "  net2 = i[1]*w1[1] + b1\n",
    "  out1 = 1/(1+np.exp(-net1))\n",
    "  out_one.append(out1)\n",
    "  out2 = 1/(1+np.exp(-net2))\n",
    "  out_one.append(out2)\n",
    "  #隐含层--->输出层\n",
    "  net3 = out_one[0]*w2[0] + b1\n",
    "  net4 = out_one[1]*w2[1] + b1\n",
    "  out3 = 1/(1+np.exp(-net3))\n",
    "  out_two.append(out3)\n",
    "  out4 = 1/(1+np.exp(-net4))\n",
    "  out_two.append(out4)\n",
    "  #-------------完成----------------  \n",
    "\n",
    "  '''  \n",
    "  ----------计算误差---------------\n",
    "  Etotal = E1 + E2\n",
    "  E = 0.5*(target - out)^2\n",
    "  '''\n",
    "  E = 0.5*(y[0] - out_two[0])**2 + 0.5*(y[1] - out_two[1])**2\n",
    "  #-------------完成-----------------\n",
    "\n",
    "\n",
    "  #----------反向传播---------------\n",
    "  #输出层--->隐含层\n",
    "  pd5 = -(y[0] - out_two[0])*out_two[0]*(1-out_two[0])*out_one[0]\n",
    "  pd6 = -(y[0] - out_two[0])*out_two[0]*(1-out_two[0])*out_one[1]\n",
    "  pd7 = -(y[1] - out_two[1])*out_two[1]*(1-out_two[1])*out_one[0]\n",
    "  pd8 = -(y[1] - out_two[1])*out_two[1]*(1-out_two[1])*out_one[1]\n",
    "  #第二层权值更新\n",
    "  w2[0] = w2[0] - alpha*pd5\n",
    "  w2[1] = w2[1] - alpha*pd6\n",
    "  w2[2] = w2[2] - alpha*pd7\n",
    "  w2[3] = w2[3] - alpha*pd8\n",
    "\n",
    "  #隐含层--->输入层\n",
    "  F1 = -(y[0] - out_two[0])*out_two[0]*(1-out_two[0])\n",
    "  F2 = -(y[1] - out_two[1])*out_two[1]*(1-out_two[1])\n",
    "  pd1 = (F1*w2[0] + F2*w2[2])*out_one[0]*(1 - out_one[0])*i[0]\n",
    "  pd2 = (F1*w2[0] + F2*w2[2])*out_one[0]*(1 - out_one[0])*i[1]\n",
    "  pd3 = (F1*w2[1] + F2*w2[1])*out_one[1]*(1 - out_one[1])*i[0]\n",
    "  pd4 = (F1*w2[1] + F2*w2[1])*out_one[1]*(1 - out_one[1])*i[1]\n",
    "  #第一层权值更新\n",
    "  w1[0] = w1[0] - alpha*pd1\n",
    "  w1[1] = w1[1] - alpha*pd2\n",
    "  w1[2] = w1[2] - alpha*pd3\n",
    "  w1[3] = w1[3] - alpha*pd4\n",
    "  #-----------完成-------------------\n",
    "\n",
    "  #print(\"第一层四个权值更新为:\",w1)\n",
    "  #print(\"第二层四个权值更新为:\",w2)\n",
    "\n",
    "  #-----------二次前向传播-------------\n",
    "  #输入层--->隐含层\n",
    "  net5 = i[0]*w1[0] + b1\n",
    "  net6 = i[1]*w1[1] + b1\n",
    "  out5 = 1/(1+np.exp(-net5))\n",
    "  out_three.append(out5)\n",
    "  out6 = 1/(1+np.exp(-net6))\n",
    "  out_three.append(out6)\n",
    "  #隐含层--->输出层\n",
    "  net7 = out_one[0]*w2[0] + b1\n",
    "  net8 = out_one[1]*w2[1] + b1\n",
    "  out7 = 1/(1+np.exp(-net7))\n",
    "  out_four.append(out7)\n",
    "  out8 = 1/(1+np.exp(-net8))\n",
    "  out_four.append(out8)\n",
    "  #-------------完成----------------  \n",
    "  count += 1\n",
    "  #print(\"再一次前项传播的结果为:\",out_four)\n",
    "  if count == 10000:\n",
    "    break\n",
    "print(\"最终O1的结果为:\",out_three[9999])\n",
    "print(\"最终O2的结果为:\",out_four[9999])"
   ]
  },
  {
   "cell_type": "code",
   "execution_count": 26,
   "metadata": {
    "ExecuteTime": {
     "end_time": "2019-07-20T03:55:46.030140Z",
     "start_time": "2019-07-20T03:54:30.480039Z"
    }
   },
   "outputs": [
    {
     "data": {
      "text/plain": [
       "<function matplotlib.pyplot.show(*args, **kw)>"
      ]
     },
     "execution_count": 26,
     "metadata": {},
     "output_type": "execute_result"
    },
    {
     "data": {
      "image/png": "[encoded data removed]",
      "text/plain": [
       "<Figure size 432x288 with 1 Axes>"
      ]
     },
     "metadata": {
      "needs_background": "light"
     },
     "output_type": "display_data"
    }
   ],
   "source": [
    "for i in range(10000):\n",
    "    plt.scatter(i,out_three[i])\n",
    "plt.show"
   ]
  },
  {
   "cell_type": "code",
   "execution_count": 25,
   "metadata": {
    "ExecuteTime": {
     "end_time": "2019-07-20T03:54:12.233774Z",
     "start_time": "2019-07-20T03:52:58.007188Z"
    }
   },
   "outputs": [
    {
     "data": {
      "image/png": "[encoded data removed]",
      "text/plain": [
       "<Figure size 432x288 with 1 Axes>"
      ]
     },
     "metadata": {
      "needs_background": "light"
     },
     "output_type": "display_data"
    }
   ],
   "source": [
    "for j in range(10000):\n",
    "    plt.scatter(j,out_four[j])\n",
    "plt.show()"
   ]
  },
  {
   "cell_type": "code",
   "execution_count": null,
   "metadata": {},
   "outputs": [],
   "source": []
  }
 ],
 "metadata": {
  "kernelspec": {
   "display_name": "Python 3",
   "language": "python",
   "name": "python3"
  },
  "language_info": {
   "codemirror_mode": {
    "name": "ipython",
    "version": 3
   },
   "file_extension": ".py",
   "mimetype": "text/x-python",
   "name": "python",
   "nbconvert_exporter": "python",
   "pygments_lexer": "ipython3",
   "version": "3.7.1"
  },
  "toc": {
   "base_numbering": 1,
   "nav_menu": {},
   "number_sections": true,
   "sideBar": true,
   "skip_h1_title": false,
   "title_cell": "Table of Contents",
   "title_sidebar": "Contents",
   "toc_cell": false,
   "toc_position": {},
   "toc_section_display": true,
   "toc_window_display": false
  }
 },
 "nbformat": 4,
 "nbformat_minor": 2
}
