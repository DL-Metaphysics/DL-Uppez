{
 "cells": [
  {
   "cell_type": "markdown",
   "metadata": {},
   "source": [
    "# 什么是矩阵分解？"
   ]
  },
  {
   "cell_type": "markdown",
   "metadata": {},
   "source": [
    "矩阵分解 (decomposition, factorization)是将矩阵拆解为数个矩阵的乘积，可分为三角分解、满秩分解、QR分解、Jordan分解和SVD(奇异值)分解等，常见的有三种:1)三角分解法 (Triangular Factorization)，2)QR 分解法 (QR Factorization)，3)奇异值分解法 (Singular Value Decomposition)。"
   ]
  },
  {
   "cell_type": "markdown",
   "metadata": {},
   "source": [
    "# LU分解"
   ]
  },
  {
   "cell_type": "markdown",
   "metadata": {},
   "source": [
    "LU分解(LUDecomposition)是矩阵分解的一种，可以将一个矩阵分解为一个下三角矩阵和一个上三角矩阵的乘积（有时是它们和一个置换矩阵的乘积）。LU分解主要应用在数值分析中，用来解线性方程、求反矩阵或计算行列式。"
   ]
  },
  {
   "cell_type": "code",
   "execution_count": 5,
   "metadata": {},
   "outputs": [],
   "source": [
    "import numpy as np\n",
    "x = np.array([[1,2,3],[4,5,6],[7,8,9]])\n",
    "\n",
    "from scipy.linalg import lu\n",
    "df = lu(x,permute_l=True)\n",
    "\n",
    "L=df[0]\n",
    "U=df[1]"
   ]
  },
  {
   "cell_type": "code",
   "execution_count": 6,
   "metadata": {},
   "outputs": [
    {
     "data": {
      "text/plain": [
       "array([[0.14285714, 1.        , 0.        ],\n",
       "       [0.57142857, 0.5       , 1.        ],\n",
       "       [1.        , 0.        , 0.        ]])"
      ]
     },
     "execution_count": 6,
     "metadata": {},
     "output_type": "execute_result"
    }
   ],
   "source": [
    "L"
   ]
  },
  {
   "cell_type": "code",
   "execution_count": 7,
   "metadata": {},
   "outputs": [
    {
     "data": {
      "text/plain": [
       "array([[7.00000000e+00, 8.00000000e+00, 9.00000000e+00],\n",
       "       [0.00000000e+00, 8.57142857e-01, 1.71428571e+00],\n",
       "       [0.00000000e+00, 0.00000000e+00, 1.11022302e-16]])"
      ]
     },
     "execution_count": 7,
     "metadata": {},
     "output_type": "execute_result"
    }
   ],
   "source": [
    "U"
   ]
  },
  {
   "cell_type": "code",
   "execution_count": 9,
   "metadata": {},
   "outputs": [
    {
     "data": {
      "text/plain": [
       "array([[1.        , 8.        , 0.        ],\n",
       "       [0.        , 0.42857143, 1.71428571],\n",
       "       [0.        , 0.        , 0.        ]])"
      ]
     },
     "execution_count": 9,
     "metadata": {},
     "output_type": "execute_result"
    }
   ],
   "source": []
  },
  {
   "cell_type": "code",
   "execution_count": 11,
   "metadata": {},
   "outputs": [
    {
     "data": {
      "text/plain": [
       "array([[1., 2., 3.],\n",
       "       [4., 5., 6.],\n",
       "       [7., 8., 9.]])"
      ]
     },
     "execution_count": 11,
     "metadata": {},
     "output_type": "execute_result"
    }
   ],
   "source": [
    "np.dot(L,U)    #矩阵相乘"
   ]
  },
  {
   "cell_type": "markdown",
   "metadata": {},
   "source": [
    "# 奇异值分解(SVD)"
   ]
  },
  {
   "attachments": {
    "2-thumb1.png": {
     "image/png": "[encoded data removed]"
    },
    "clip-image004-thumb3.jpg": {
     "image/jpeg": "[encoded data removed]"
    },
    "clip-image006-thumb3.jpg": {
     "image/jpeg": "[encoded data removed]"
    },
    "clip-image008-thumb3.jpg": {
     "image/jpeg": "[encoded data removed]"
    },
    "clip-image010-thumb3.jpg": {
     "image/jpeg": "[encoded data removed]"
    }
   },
   "cell_type": "markdown",
   "metadata": {},
   "source": [
    "1. 矩阵的秩：矩阵的秩是矩阵中线性无关的行或列的个数\n",
    "\n",
    " \n",
    "\n",
    "2. 对角矩阵：对角矩阵是除对角线外所有元素都为零的方阵\n",
    "\n",
    " \n",
    "\n",
    "3. 单位矩阵：如果对角矩阵中所有对角线上的元素都为零，该矩阵称为单位矩阵\n",
    "\n",
    " \n",
    "\n",
    "4. 特征值：对一个M x M矩阵C和向量X，如果存在λ使得下式成立\n",
    "![2-thumb1.png](attachment:2-thumb1.png)则称λ为矩阵C的特征值，X称为矩阵的特征向量。非零特征值的个数小于等于矩阵的秩。\n",
    "\n",
    "5. 特征值和矩阵的关系：考虑以下矩阵\n",
    "![clip-image004-thumb3.jpg](attachment:clip-image004-thumb3.jpg)\n",
    "该矩阵特征值λ1 = 30,λ2 = 20,λ3 = 1。对应的特征向量\n",
    "![clip-image006-thumb3.jpg](attachment:clip-image006-thumb3.jpg)\n",
    "假设VT=(2,4,6) 计算S x VT\n",
    "![clip-image008-thumb3.jpg](attachment:clip-image008-thumb3.jpg)\n",
    "![clip-image010-thumb3.jpg](attachment:clip-image010-thumb3.jpg)\n",
    "由上面计算结果可以看出，矩阵与向量相乘的结果与特征值，特征向量有关。观察三个特征值λ1 = 30,λ2 = 20,λ3 = 1，λ3值最小，对计算结果的影响也最小，如果忽略λ3，那么运算结果就相当于从(60,80,6)转变为(60,80,0)，这两个向量十分相近。这也 表示了数值小的特征值对矩阵-向量相乘的结果贡献小，影响小。这也是后面谈到的低阶近似的数学基础。"
   ]
  },
  {
   "cell_type": "code",
   "execution_count": 14,
   "metadata": {},
   "outputs": [
    {
     "data": {
      "text/plain": [
       "(array([[-0.17259857,  0.89640564,  0.40824829],\n",
       "        [-0.50818671,  0.27400657, -0.81649658],\n",
       "        [-0.84377485, -0.3483925 ,  0.40824829]]),\n",
       " array([12.59601718,  0.58339625]),\n",
       " array([[-0.64399479, -0.76502988],\n",
       "        [-0.76502988,  0.64399479]]))"
      ]
     },
     "execution_count": 14,
     "metadata": {},
     "output_type": "execute_result"
    }
   ],
   "source": [
    "import numpy as np\n",
    "a = np.array([[1,2],[4,5],[7,8]])\n",
    "b = np.linalg.svd(a)\n",
    "b"
   ]
  },
  {
   "cell_type": "markdown",
   "metadata": {},
   "source": [
    "# QR分解"
   ]
  },
  {
   "cell_type": "markdown",
   "metadata": {},
   "source": [
    "QR分解法是三种将矩阵分解的方式之一。这种方式，把矩阵分解成一个半正交矩阵与一个上三角矩阵的积。QR分解经常用来解线性最小二乘法问题。QR分解也是特定特征值算法即QR算法的基础。"
   ]
  },
  {
   "cell_type": "code",
   "execution_count": null,
   "metadata": {},
   "outputs": [],
   "source": []
  }
 ],
 "metadata": {
  "kernelspec": {
   "display_name": "Python 3",
   "language": "python",
   "name": "python3"
  },
  "language_info": {
   "codemirror_mode": {
    "name": "ipython",
    "version": 3
   },
   "file_extension": ".py",
   "mimetype": "text/x-python",
   "name": "python",
   "nbconvert_exporter": "python",
   "pygments_lexer": "ipython3",
   "version": "3.7.1"
  },
  "toc": {
   "base_numbering": 1,
   "nav_menu": {},
   "number_sections": true,
   "sideBar": true,
   "skip_h1_title": false,
   "title_cell": "Table of Contents",
   "title_sidebar": "Contents",
   "toc_cell": false,
   "toc_position": {},
   "toc_section_display": true,
   "toc_window_display": false
  }
 },
 "nbformat": 4,
 "nbformat_minor": 2
}
