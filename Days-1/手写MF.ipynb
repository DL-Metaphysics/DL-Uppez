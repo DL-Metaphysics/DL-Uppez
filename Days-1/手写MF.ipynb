{
 "cells": [
  {
   "cell_type": "code",
   "execution_count": 5,
   "metadata": {
    "ExecuteTime": {
     "end_time": "2019-07-28T01:32:23.921821Z",
     "start_time": "2019-07-28T01:32:00.100473Z"
    }
   },
   "outputs": [
    {
     "name": "stdout",
     "output_type": "stream",
     "text": [
      "5\n",
      "4\n",
      "原始矩阵: [[5 3 0 1]\n",
      " [4 0 0 1]\n",
      " [1 1 0 5]\n",
      " [1 0 0 4]\n",
      " [0 1 5 4]]\n",
      "经过MF后: [[ 5.12687703  1.90046164 -0.73061564  1.57002132]\n",
      " [ 3.43081502  1.27769981 -0.46352688  1.09465695]\n",
      " [ 1.5580641   1.04818483  1.78792009  3.96267639]\n",
      " [ 1.18455355  0.80658276  1.40063267  3.08437945]\n",
      " [-0.45627368  0.54486256  3.11432779  5.14819891]]\n"
     ]
    },
    {
     "data": {
      "image/png": "[encoded data removed]",
      "text/plain": [
       "<Figure size 432x288 with 1 Axes>"
      ]
     },
     "metadata": {
      "needs_background": "light"
     },
     "output_type": "display_data"
    }
   ],
   "source": [
    "import numpy as np\n",
    "from math import pow\n",
    "import matplotlib.pyplot as plt\n",
    "%matplotlib inline\n",
    "\n",
    "def mf(R,P,Q,K):\n",
    "    alpha = 0.0002\n",
    "    beta = 0.02\n",
    "    times = 5000\n",
    "    eplison = 0.001\n",
    "    result = []\n",
    "    #将矩阵Q进行转置\n",
    "    Q = Q.T\n",
    "    #将生成的矩阵相乘\n",
    "    for time in range(times):\n",
    "        #求R尖的值\n",
    "        for i in range(len(R)):\n",
    "            for j in range(len(R[i])):\n",
    "                eij = R[i][j] - np.dot(P[i,:],Q[:,j])\n",
    "                for k in range(K):\n",
    "                    P[i][k] = P[i][k] + 2*alpha*eij*Q[k][j]\n",
    "                    Q[k][j] = Q[k][j] + 2*alpha*eij*P[i][k]\n",
    "        eR = np.dot(P,Q)\n",
    "        #求eij的平方\n",
    "        eij_2 = 0\n",
    "        for i in range(len(R)):\n",
    "            for j in range(len(R[i])):\n",
    "                for k in range(K):\n",
    "                    eij_2 = eij_2 + pow((R[i][j] - np.dot(P[i,:],Q[:,j])),2) + 0.5*beta*(pow(P[i][k],2))+pow(Q[k][j],2)\n",
    "        result.append(eij_2)\n",
    "        if eij_2 < eplison:\n",
    "            break\n",
    "    return P,Q.T,result \n",
    "        \n",
    "    \n",
    "    \n",
    "def main():\n",
    "    R = [\n",
    "        [5,3,0,1],\n",
    "        [4,0,0,1],\n",
    "        [1,1,0,5],\n",
    "        [1,0,0,4],\n",
    "        [0,1,5,4]\n",
    "    ]\n",
    "    #将R列表转化为矩阵\n",
    "    R = np.array(R)\n",
    "    #获取该矩阵的大小\n",
    "    N = len(R)\n",
    "    M = len(R[0])\n",
    "    \n",
    "    print(N)\n",
    "    print(M)\n",
    "    ''' \n",
    "    如何预测缺失的评分呢？对于缺失的评分，可以转化为基于机器学习的回归问题，也就是连续值的预测，\n",
    "    对于矩阵分解有如下式子，R是类似图1的评分矩阵，假设N*M维(N表示行数，M表示列数)，可以分解为P跟Q矩阵，\n",
    "    其中P矩阵维度N*K，P矩阵维度K*M。\n",
    "    对于P,Q矩阵的解释，直观上，P矩阵是N个用户对K个主题的关系，Q矩阵是K个主题跟M个物品的关系，至于K个\n",
    "    主题具体是什么，在算法里面K是一个参数，需要调节的，通常10~100之间。\n",
    "    '''\n",
    "    K = 2\n",
    "    P = np.random.rand(N,K)\n",
    "    Q = np.random.rand(M,K)\n",
    "    #调用矩阵分解的函数\n",
    "    mf_P,mf_Q,result = mf(R,P,Q,K)\n",
    "    print(\"原始矩阵:\",R)\n",
    "    mf_R = np.dot(mf_P,mf_Q.T)\n",
    "    print(\"经过MF后:\",mf_R)\n",
    "    #做出图像\n",
    "    for t in range(5000):\n",
    "        plt.scatter(t,result[t])\n",
    "    plt.show()\n",
    "main()"
   ]
  },
  {
   "cell_type": "code",
   "execution_count": null,
   "metadata": {
    "ExecuteTime": {
     "end_time": "2019-07-22T01:40:42.394455Z",
     "start_time": "2019-07-22T01:40:42.382517Z"
    }
   },
   "outputs": [],
   "source": []
  },
  {
   "cell_type": "code",
   "execution_count": null,
   "metadata": {},
   "outputs": [],
   "source": []
  }
 ],
 "metadata": {
  "kernelspec": {
   "display_name": "Python 3",
   "language": "python",
   "name": "python3"
  },
  "language_info": {
   "codemirror_mode": {
    "name": "ipython",
    "version": 3
   },
   "file_extension": ".py",
   "mimetype": "text/x-python",
   "name": "python",
   "nbconvert_exporter": "python",
   "pygments_lexer": "ipython3",
   "version": "3.7.1"
  },
  "toc": {
   "base_numbering": 1,
   "nav_menu": {},
   "number_sections": true,
   "sideBar": true,
   "skip_h1_title": false,
   "title_cell": "Table of Contents",
   "title_sidebar": "Contents",
   "toc_cell": false,
   "toc_position": {},
   "toc_section_display": true,
   "toc_window_display": false
  }
 },
 "nbformat": 4,
 "nbformat_minor": 2
}
