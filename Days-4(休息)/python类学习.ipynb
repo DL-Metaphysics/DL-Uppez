{
 "cells": [
  {
   "cell_type": "markdown",
   "metadata": {},
   "source": [
    "[面向对象编程--类的学习](https://www.cnblogs.com/melonjiang/p/5135101.html)\n",
    "\n",
    "[面向对象编程(初级篇)](https://www.cnblogs.com/wupeiqi/p/4493506.html)\n",
    "\n",
    "[面向对象编程(进阶篇)](https://www.cnblogs.com/wupeiqi/p/4766801.html)"
   ]
  },
  {
   "cell_type": "markdown",
   "metadata": {},
   "source": [
    "面向对象编程简单来说就是基于对 类 和 对象 的使用，所有的代码都是通过类和对象来实现的编程就是面向对象编程！\n",
    "\n",
    "面向对象的三大特性：**封装、继承、多态**\n",
    "\n",
    "首先创建一个类:"
   ]
  },
  {
   "cell_type": "code",
   "execution_count": 1,
   "metadata": {
    "ExecuteTime": {
     "end_time": "2019-07-21T08:08:44.212266Z",
     "start_time": "2019-07-21T08:08:44.186393Z"
    }
   },
   "outputs": [],
   "source": [
    "#使用class创建一个School类,类中有student方法\n",
    "class School:\n",
    "    def student(self):\n",
    "        pass\n",
    "a1 = School"
   ]
  },
  {
   "cell_type": "markdown",
   "metadata": {},
   "source": [
    "# 封装"
   ]
  },
  {
   "cell_type": "markdown",
   "metadata": {},
   "source": [
    "## 封装:\n",
    "将某些内容先封装到一个地方，等到需要的时候再去调用"
   ]
  },
  {
   "cell_type": "code",
   "execution_count": 2,
   "metadata": {
    "ExecuteTime": {
     "end_time": "2019-07-21T08:11:20.240152Z",
     "start_time": "2019-07-21T08:11:20.236179Z"
    }
   },
   "outputs": [],
   "source": [
    "class School:\n",
    "    def __init__(self,name,age):\n",
    "        self.name = name\n",
    "        self.age = age\n",
    "\n",
    "#创建对象a1,a2\n",
    "a1 = School(\"wz\",20)\n",
    "a2 = School(\"wj\",19)"
   ]
  },
  {
   "cell_type": "markdown",
   "metadata": {},
   "source": [
    "上面代码实现的就是封装的功能，把各自的name和age分别封装到了self的name和age属性中，就等于被封装到了对象a1和a2中\n",
    "\n",
    "类中定义的函数叫做方法，带有__init__的函数称为构造方法，在创建a1,a2对象时会自动执行。"
   ]
  },
  {
   "cell_type": "markdown",
   "metadata": {},
   "source": [
    "## 调用\n",
    "调用有两种方式，通过对象直接调用和通过self间接调用"
   ]
  },
  {
   "cell_type": "markdown",
   "metadata": {},
   "source": [
    "### 通过对象直接调用"
   ]
  },
  {
   "cell_type": "code",
   "execution_count": 4,
   "metadata": {
    "ExecuteTime": {
     "end_time": "2019-07-21T08:17:19.271668Z",
     "start_time": "2019-07-21T08:17:19.256708Z"
    }
   },
   "outputs": [
    {
     "name": "stdout",
     "output_type": "stream",
     "text": [
      "wz 20\n",
      "wj 19\n"
     ]
    }
   ],
   "source": [
    "class School:\n",
    "    def __init__(self,name,age):\n",
    "        self.name = name\n",
    "        self.age = age\n",
    "    def student(self):\n",
    "        print(\"Name:{},Age:{}\".format(self.name,self.age))\n",
    "#创建对象a1,a2\n",
    "a1 = School(\"wz\",20)\n",
    "a2 = School(\"wj\",19)\n",
    "print(a1.name,a1.age)\n",
    "print(a2.name,a2.age)"
   ]
  },
  {
   "cell_type": "markdown",
   "metadata": {},
   "source": [
    "### 通过self间接调用"
   ]
  },
  {
   "cell_type": "code",
   "execution_count": 5,
   "metadata": {
    "ExecuteTime": {
     "end_time": "2019-07-21T08:19:04.167679Z",
     "start_time": "2019-07-21T08:19:04.159670Z"
    }
   },
   "outputs": [
    {
     "name": "stdout",
     "output_type": "stream",
     "text": [
      "Name:wz,Age:20\n",
      "Name:wj,Age:19\n"
     ]
    }
   ],
   "source": [
    "class School:\n",
    "    def __init__(self,name,age):\n",
    "        self.name = name\n",
    "        self.age = age\n",
    "    def student(self):\n",
    "        print(\"Name:{},Age:{}\".format(self.name,self.age))\n",
    "#创建对象a1,a2\n",
    "a1 = School(\"wz\",20)\n",
    "a2 = School(\"wj\",19)\n",
    "\n",
    "#执行类中的方法时,通过self间接调用被封装的内容\n",
    "a1.student()\n",
    "a2.student()"
   ]
  },
  {
   "cell_type": "markdown",
   "metadata": {},
   "source": [
    "# 继承"
   ]
  },
  {
   "cell_type": "markdown",
   "metadata": {},
   "source": [
    "## 继承\n",
    "既派生类（子类）可以继承基类（父类）的方法，我们可以将多个类共有的方法提取到父类当中，这样子类仅需继承父类而不必一一实现每个方法\n",
    "\n",
    "在类名后面括号中写上另一个类，表示继承了那个类"
   ]
  },
  {
   "cell_type": "code",
   "execution_count": 7,
   "metadata": {
    "ExecuteTime": {
     "end_time": "2019-07-21T08:21:22.369396Z",
     "start_time": "2019-07-21T08:21:22.360418Z"
    }
   },
   "outputs": [
    {
     "name": "stdout",
     "output_type": "stream",
     "text": [
      "wz去教室\n",
      "wj去教室\n"
     ]
    }
   ],
   "source": [
    "#使用class创建一个School类\n",
    "class School:\n",
    "    def __init__(self,name,age):\n",
    "        self.name=name\n",
    "        self.age=age\n",
    "\n",
    "    def student(self):\n",
    "        print(\"name:{},age:{}\".format(self.name,self.age))\n",
    "    def classroom(self):\n",
    "        print(\"{}去教室\".format(self.name))\n",
    "\n",
    "class SchoolA(School):  #SchoolA继承School\n",
    "    def __init__(self,name):\n",
    "        self.name=name\n",
    "\n",
    "class SchoolB(SchoolA): #SchoolB继承SchoolA\n",
    "    def __init__(self,name):\n",
    "        self.name=name\n",
    "#创建对象a1\n",
    "a1=SchoolA(\"wz\")\n",
    "a1.classroom()\n",
    "#创建对象a2\n",
    "a2=SchoolB(\"wj\")\n",
    "a2.classroom()"
   ]
  },
  {
   "cell_type": "markdown",
   "metadata": {},
   "source": [
    "在上面代码中我们可以看到，在SchoolA和SchoolB中都没有classroom方法，但由于SchoolB继承了SchoolA，而SchoolA又继承了School，所以他们创建对象后都能\n",
    "\n",
    "调用School中的classroom方法。"
   ]
  },
  {
   "cell_type": "markdown",
   "metadata": {},
   "source": [
    "## 多继承\n",
    "在python中，类还可以继承多个类，在继承多个类时，他对类中的函数查找有两种方式\n",
    "\n",
    "　　**深度优先**：类是经典类时，多继承情况下，会按照深度优先方式查找\n",
    "\n",
    "　　**广度优先**：类是新式类时，多继承情况下，会按照广度优先方式查找\n",
    "\n",
    "（在python3.x中）都默认为广度优先，但还是可以了解一下两个的区别，新式类：当前类或者基类继承了objiect类就叫新式类，否者就是经典类"
   ]
  },
  {
   "cell_type": "code",
   "execution_count": 8,
   "metadata": {
    "ExecuteTime": {
     "end_time": "2019-07-21T08:22:37.726331Z",
     "start_time": "2019-07-21T08:22:37.719350Z"
    }
   },
   "outputs": [
    {
     "name": "stdout",
     "output_type": "stream",
     "text": [
      "CCCCCC\n"
     ]
    }
   ],
   "source": [
    "#python2.7中经典类\n",
    "class A():\n",
    "    def name(self):\n",
    "        print(\"AAAAAA\")\n",
    "class B(A):\n",
    "    pass\n",
    "class C(A):\n",
    "    def name(self):\n",
    "        print(\"CCCCCC\")\n",
    "class D(B,C):\n",
    "    pass\n",
    "a1=D()\n",
    "a1.name()   #输出：AAAAAA\n",
    "#查找顺序:# 首先去自己D类中查找，如果没有，则继续去B类中找，没有则继续去A类中找，没有则继续去C类中找，如果还是未找到，则报错\n",
    "#深度优先：D-B-A-C"
   ]
  },
  {
   "cell_type": "code",
   "execution_count": 9,
   "metadata": {
    "ExecuteTime": {
     "end_time": "2019-07-21T08:22:52.181468Z",
     "start_time": "2019-07-21T08:22:52.174525Z"
    }
   },
   "outputs": [
    {
     "name": "stdout",
     "output_type": "stream",
     "text": [
      "CCCCCC\n"
     ]
    }
   ],
   "source": [
    "#python2.7中新式类\n",
    "class A(object):\n",
    "    def name(self):\n",
    "        print(\"AAAAAA\")\n",
    "class B(A):\n",
    "    pass\n",
    "class C(A):\n",
    "    def name(self):\n",
    "        print(\"CCCCCC\")\n",
    "class D(B,C):\n",
    "    pass\n",
    "a1=D()\n",
    "a1.name()   #输出：CCCCCC\n",
    "#查找顺序:# 首先去自己D类中查找，如果没有，则继续去B类中找，没有则继续去C类中找，没有则继续去A类中找，如果还是未找到，则报错\n",
    "#广度优先：D-B-C-A"
   ]
  },
  {
   "cell_type": "markdown",
   "metadata": {},
   "source": [
    "上面两个例子中我们可以看到，经典类和新式类输出的结果是不一样的，是因为他们的查找顺序不一样\n",
    "\n",
    "python2.7中 广度优先的前提条件：D继承BC，BC又同时继承A，只有满足这个条件，新式类才会遵循广度优先，否者不会，例："
   ]
  },
  {
   "cell_type": "code",
   "execution_count": 10,
   "metadata": {
    "ExecuteTime": {
     "end_time": "2019-07-21T08:23:21.462040Z",
     "start_time": "2019-07-21T08:23:21.456067Z"
    }
   },
   "outputs": [
    {
     "name": "stdout",
     "output_type": "stream",
     "text": [
      "AAAAAA\n"
     ]
    }
   ],
   "source": [
    "class A(object):\n",
    "    def name(self):\n",
    "        print(\"AAAAAA\")\n",
    "class B(A):\n",
    "    pass\n",
    "class C:\n",
    "    def name(self):\n",
    "        print(\"CCCCCC\")\n",
    "class D(B,C):\n",
    "    pass\n",
    "a1=D()\n",
    "a1.name()   #输出：AAAAAA"
   ]
  },
  {
   "cell_type": "markdown",
   "metadata": {},
   "source": [
    "如果C不在继承A，那么就算你是新式类，他也会按照深度优先的顺序查找\n",
    "\n",
    "在python3.X之后就没有了上面的这些区别，它的查找顺序都是 广度优先 "
   ]
  },
  {
   "cell_type": "markdown",
   "metadata": {},
   "source": [
    "# 多态"
   ]
  },
  {
   "cell_type": "markdown",
   "metadata": {},
   "source": [
    "python不支持多态，也用不到多态，python是一种多态语言，崇尚鸭子类型"
   ]
  },
  {
   "cell_type": "markdown",
   "metadata": {},
   "source": [
    "# 类中的成员\n",
    "类中的成员：字段、方法、属性"
   ]
  },
  {
   "cell_type": "markdown",
   "metadata": {},
   "source": [
    "## 字段\n",
    "字段：普通字段、静态字段"
   ]
  },
  {
   "cell_type": "code",
   "execution_count": 11,
   "metadata": {
    "ExecuteTime": {
     "end_time": "2019-07-21T08:31:50.721166Z",
     "start_time": "2019-07-21T08:31:50.714185Z"
    }
   },
   "outputs": [
    {
     "name": "stdout",
     "output_type": "stream",
     "text": [
      "zhangsan\n",
      "王五\n"
     ]
    }
   ],
   "source": [
    "class School:\n",
    "    headmaster=\"王五\"\n",
    "    def __init__(self,name,age):\n",
    "        self.name=name\n",
    "        self.age=age\n",
    "\n",
    "    def student(self):\n",
    "        print(\"name:%s,age:%s\"%(self.name,self.age))\n",
    "\n",
    "#创建对象a1\n",
    "a1=School(\"zhangsan\",18)\n",
    "print(a1.name)  #访问普通字段\n",
    "print(School.headmaster)    #访问静态字段\n",
    "\n",
    "#执行结果:\n",
    "#   zhangsan\n",
    "#   王五"
   ]
  },
  {
   "cell_type": "markdown",
   "metadata": {},
   "source": [
    "在上面代码中，__init__函数中的就是普通字段，headmaster就是静态字段\n",
    "\n",
    "　　普通字段：属于对象，由对象来访问，在内存中每个对象都要保存一份\n",
    "\n",
    "　　静态字段：属于类，由类直接访问，在内存中只保存一份"
   ]
  },
  {
   "cell_type": "markdown",
   "metadata": {},
   "source": [
    "## 方法\n",
    "方法：普通方法、静态方法、类方法"
   ]
  },
  {
   "cell_type": "code",
   "execution_count": 12,
   "metadata": {
    "ExecuteTime": {
     "end_time": "2019-07-21T08:32:23.343664Z",
     "start_time": "2019-07-21T08:32:23.319728Z"
    }
   },
   "outputs": [
    {
     "name": "stdout",
     "output_type": "stream",
     "text": [
      "普通方法\n",
      "静态方法\n",
      "类方法 <class '__main__.School'>\n"
     ]
    },
    {
     "data": {
      "text/plain": [
       "\"执行结果：\\n    普通方法\\n    静态方法\\n    类方法 <class '__main__.School'>\\n    \""
      ]
     },
     "execution_count": 12,
     "metadata": {},
     "output_type": "execute_result"
    }
   ],
   "source": [
    "class School:\n",
    "    headmaster=\"王五\"\n",
    "    def __init__(self,name,age):\n",
    "        self.name=name\n",
    "        self.age=age\n",
    "\n",
    "    def student(self):  #普通方法 至少一个self\n",
    "        print(\"普通方法\")\n",
    "\n",
    "    @staticmethod       #静态方法 任意参数\n",
    "    def classroom():\n",
    "        print(\"静态方法\")\n",
    "\n",
    "    @classmethod\n",
    "    def dormitory(cls):    #类方法 只能一个cls\n",
    "        print(\"类方法\",cls)\n",
    "\n",
    "#创建对象a1\n",
    "a1=School(\"zhangsan\",18)\n",
    "a1.student()\n",
    "\n",
    "School.classroom()    #访问静态方法\n",
    "School.dormitory()     #访问类方法\n",
    "\n",
    "'''执行结果：\n",
    "    普通方法\n",
    "    静态方法\n",
    "    类方法 <class '__main__.School'>\n",
    "    '''"
   ]
  },
  {
   "cell_type": "markdown",
   "metadata": {},
   "source": [
    "普通方法：先创建一个对象，在用对象去调用这个方法\n",
    "\n",
    "静态方法：直接用类调用，可以有任意参数(静态方法可以让类直接调用，省去了普通方法创建对象的步骤)\n",
    "\n",
    "类方法：直接用类调用，只能一个cls参数\n",
    "\n",
    "　　　　上面我们可以看到执行类方法时，输出了他传入的参数等于<class '__main__.School'>，是一个类，意思就是执行时，它会把当前的类当成参数传进去。"
   ]
  },
  {
   "cell_type": "markdown",
   "metadata": {},
   "source": [
    "## 属性\n",
    "属性定义：装饰器定义、静态字段定义"
   ]
  },
  {
   "cell_type": "markdown",
   "metadata": {
    "ExecuteTime": {
     "end_time": "2019-07-21T08:33:07.578510Z",
     "start_time": "2019-07-21T08:33:07.575518Z"
    }
   },
   "source": [
    "### 装饰器定义"
   ]
  },
  {
   "cell_type": "code",
   "execution_count": 14,
   "metadata": {
    "ExecuteTime": {
     "end_time": "2019-07-21T08:33:16.892696Z",
     "start_time": "2019-07-21T08:33:16.884749Z"
    }
   },
   "outputs": [
    {
     "name": "stdout",
     "output_type": "stream",
     "text": [
      "方法\n",
      "属性\n"
     ]
    }
   ],
   "source": [
    "class School:\n",
    "    headmaster=\"王五\"\n",
    "    def __init__(self,name,age):\n",
    "        self.name=name\n",
    "        self.age=age\n",
    "\n",
    "    def student(self):  #方法\n",
    "        print(\"方法\")\n",
    "\n",
    "    @property\n",
    "    def classroom(self):    #属性，加上@property装饰器，仅有一个self参数\n",
    "        print(\"属性\")\n",
    "\n",
    "#创建对象a1\n",
    "a1=School(\"zhangsan\",18)\n",
    "a1.student()    #调用方法\n",
    "a1.classroom    #调用属性\n",
    "\n",
    "#执行结果：\n",
    "#   方法\n",
    "#   属性"
   ]
  },
  {
   "cell_type": "markdown",
   "metadata": {},
   "source": [
    "在上面代码中可以看到，在方法上加上@property装饰器就叫属性，属性和方法的区别就是调用时不用加括号\n",
    "\n",
    "在新式类中，除了@property，还有另外两种装饰器"
   ]
  },
  {
   "cell_type": "code",
   "execution_count": 15,
   "metadata": {
    "ExecuteTime": {
     "end_time": "2019-07-21T08:33:42.221572Z",
     "start_time": "2019-07-21T08:33:42.203615Z"
    }
   },
   "outputs": [
    {
     "name": "stdout",
     "output_type": "stream",
     "text": [
      "张三 18\n",
      "修改 张三 20\n"
     ]
    },
    {
     "ename": "AttributeError",
     "evalue": "'School' object has no attribute 'age'",
     "output_type": "error",
     "traceback": [
      "\u001b[1;31m---------------------------------------------------------------------------\u001b[0m",
      "\u001b[1;31mAttributeError\u001b[0m                            Traceback (most recent call last)",
      "\u001b[1;32m<ipython-input-15-05810108af33>\u001b[0m in \u001b[0;36m<module>\u001b[1;34m\u001b[0m\n\u001b[0;32m     20\u001b[0m \u001b[0ma1\u001b[0m\u001b[1;33m.\u001b[0m\u001b[0mclassroom\u001b[0m    \u001b[1;31m#1.执行后会自动调用@property方法\u001b[0m\u001b[1;33m\u001b[0m\u001b[1;33m\u001b[0m\u001b[0m\n\u001b[0;32m     21\u001b[0m \u001b[0ma1\u001b[0m\u001b[1;33m.\u001b[0m\u001b[0mclassroom\u001b[0m\u001b[1;33m=\u001b[0m\u001b[1;36m20\u001b[0m     \u001b[1;31m#2.执行后会自动调用@classroom.setter的方法，并将20传给age参数\u001b[0m\u001b[1;33m\u001b[0m\u001b[1;33m\u001b[0m\u001b[0m\n\u001b[1;32m---> 22\u001b[1;33m \u001b[1;32mdel\u001b[0m \u001b[0ma1\u001b[0m\u001b[1;33m.\u001b[0m\u001b[0mclassroom\u001b[0m    \u001b[1;31m#3.执行后会自动调用@classroom.deleter的方法\u001b[0m\u001b[1;33m\u001b[0m\u001b[1;33m\u001b[0m\u001b[0m\n\u001b[0m\u001b[0;32m     23\u001b[0m \u001b[1;33m\u001b[0m\u001b[0m\n\u001b[0;32m     24\u001b[0m '''执行结果:\n",
      "\u001b[1;32m<ipython-input-15-05810108af33>\u001b[0m in \u001b[0;36mclassroom\u001b[1;34m(self)\u001b[0m\n\u001b[0;32m     14\u001b[0m     \u001b[1;32mdef\u001b[0m \u001b[0mclassroom\u001b[0m\u001b[1;33m(\u001b[0m\u001b[0mself\u001b[0m\u001b[1;33m)\u001b[0m\u001b[1;33m:\u001b[0m\u001b[1;33m\u001b[0m\u001b[1;33m\u001b[0m\u001b[0m\n\u001b[0;32m     15\u001b[0m         \u001b[1;32mdel\u001b[0m \u001b[0mself\u001b[0m\u001b[1;33m.\u001b[0m\u001b[0mage\u001b[0m        \u001b[1;31m#删除age\u001b[0m\u001b[1;33m\u001b[0m\u001b[1;33m\u001b[0m\u001b[0m\n\u001b[1;32m---> 16\u001b[1;33m         \u001b[0mprint\u001b[0m\u001b[1;33m(\u001b[0m\u001b[1;34m\"删除\"\u001b[0m\u001b[1;33m,\u001b[0m\u001b[0mself\u001b[0m\u001b[1;33m.\u001b[0m\u001b[0mname\u001b[0m\u001b[1;33m,\u001b[0m\u001b[0mself\u001b[0m\u001b[1;33m.\u001b[0m\u001b[0mage\u001b[0m\u001b[1;33m)\u001b[0m\u001b[1;33m\u001b[0m\u001b[1;33m\u001b[0m\u001b[0m\n\u001b[0m\u001b[0;32m     17\u001b[0m \u001b[1;33m\u001b[0m\u001b[0m\n\u001b[0;32m     18\u001b[0m \u001b[1;31m#创建对象a1\u001b[0m\u001b[1;33m\u001b[0m\u001b[1;33m\u001b[0m\u001b[1;33m\u001b[0m\u001b[0m\n",
      "\u001b[1;31mAttributeError\u001b[0m: 'School' object has no attribute 'age'"
     ]
    }
   ],
   "source": [
    "class School(object):\n",
    "    def __init__(self,name,age):\n",
    "        self.name=name\n",
    "        self.age=age\n",
    "\n",
    "    @property\n",
    "    def classroom(self):    #属性，加上@property装饰器，仅有一个self参数\n",
    "        print(self.name,self.age)\n",
    "    @classroom.setter\n",
    "    def classroom(self,age):\n",
    "        self.age=age    #把age修改为传入的参数\n",
    "        print(\"修改\",self.name,self.age)\n",
    "    @classroom.deleter\n",
    "    def classroom(self):\n",
    "        del self.age        #删除age\n",
    "        print(\"删除\",self.name,self.age)\n",
    "\n",
    "#创建对象a1\n",
    "a1=School(\"张三\",18)\n",
    "a1.classroom    #1.执行后会自动调用@property方法\n",
    "a1.classroom=20     #2.执行后会自动调用@classroom.setter的方法，并将20传给age参数\n",
    "del a1.classroom    #3.执行后会自动调用@classroom.deleter的方法\n",
    "\n",
    "'''执行结果:\n",
    "    张三 18\n",
    "    修改 张三 20\n",
    "    在执行3时会报错,因为age已经在@classroom.deleter下面的方法里删除了，所以输出self.age时会出错\n",
    "'''"
   ]
  },
  {
   "cell_type": "markdown",
   "metadata": {},
   "source": [
    "### 静态字段定义"
   ]
  },
  {
   "cell_type": "code",
   "execution_count": 16,
   "metadata": {
    "ExecuteTime": {
     "end_time": "2019-07-21T08:34:13.175661Z",
     "start_time": "2019-07-21T08:34:13.157743Z"
    }
   },
   "outputs": [
    {
     "name": "stdout",
     "output_type": "stream",
     "text": [
      "张三 18\n",
      "修改 张三 20\n"
     ]
    },
    {
     "ename": "AttributeError",
     "evalue": "'School' object has no attribute 'age'",
     "output_type": "error",
     "traceback": [
      "\u001b[1;31m---------------------------------------------------------------------------\u001b[0m",
      "\u001b[1;31mAttributeError\u001b[0m                            Traceback (most recent call last)",
      "\u001b[1;32m<ipython-input-16-fc4a1c74e69c>\u001b[0m in \u001b[0;36m<module>\u001b[1;34m\u001b[0m\n\u001b[0;32m     21\u001b[0m \u001b[0ma1\u001b[0m\u001b[1;33m.\u001b[0m\u001b[0mobj\u001b[0m  \u001b[1;31m#1.执行后会自动调用classroom方法\u001b[0m\u001b[1;33m\u001b[0m\u001b[1;33m\u001b[0m\u001b[0m\n\u001b[0;32m     22\u001b[0m \u001b[0ma1\u001b[0m\u001b[1;33m.\u001b[0m\u001b[0mobj\u001b[0m\u001b[1;33m=\u001b[0m\u001b[1;36m20\u001b[0m     \u001b[1;31m#2.执行后会自动调用classroom_update的方法，并将20传给age参数\u001b[0m\u001b[1;33m\u001b[0m\u001b[1;33m\u001b[0m\u001b[0m\n\u001b[1;32m---> 23\u001b[1;33m \u001b[1;32mdel\u001b[0m \u001b[0ma1\u001b[0m\u001b[1;33m.\u001b[0m\u001b[0mobj\u001b[0m    \u001b[1;31m#3.执行后会自动调用classroom_delr的方法\u001b[0m\u001b[1;33m\u001b[0m\u001b[1;33m\u001b[0m\u001b[0m\n\u001b[0m",
      "\u001b[1;32m<ipython-input-16-fc4a1c74e69c>\u001b[0m in \u001b[0;36mclassroom_del\u001b[1;34m(self)\u001b[0m\n\u001b[0;32m     13\u001b[0m     \u001b[1;32mdef\u001b[0m \u001b[0mclassroom_del\u001b[0m\u001b[1;33m(\u001b[0m\u001b[0mself\u001b[0m\u001b[1;33m)\u001b[0m\u001b[1;33m:\u001b[0m\u001b[1;33m\u001b[0m\u001b[1;33m\u001b[0m\u001b[0m\n\u001b[0;32m     14\u001b[0m         \u001b[1;32mdel\u001b[0m \u001b[0mself\u001b[0m\u001b[1;33m.\u001b[0m\u001b[0mage\u001b[0m        \u001b[1;31m#删除age\u001b[0m\u001b[1;33m\u001b[0m\u001b[1;33m\u001b[0m\u001b[0m\n\u001b[1;32m---> 15\u001b[1;33m         \u001b[0mprint\u001b[0m\u001b[1;33m(\u001b[0m\u001b[1;34m\"删除\"\u001b[0m\u001b[1;33m,\u001b[0m\u001b[0mself\u001b[0m\u001b[1;33m.\u001b[0m\u001b[0mname\u001b[0m\u001b[1;33m,\u001b[0m\u001b[0mself\u001b[0m\u001b[1;33m.\u001b[0m\u001b[0mage\u001b[0m\u001b[1;33m)\u001b[0m\u001b[1;33m\u001b[0m\u001b[1;33m\u001b[0m\u001b[0m\n\u001b[0m\u001b[0;32m     16\u001b[0m \u001b[1;33m\u001b[0m\u001b[0m\n\u001b[0;32m     17\u001b[0m     \u001b[0mobj\u001b[0m\u001b[1;33m=\u001b[0m\u001b[0mproperty\u001b[0m\u001b[1;33m(\u001b[0m\u001b[0mclassroom\u001b[0m\u001b[1;33m,\u001b[0m\u001b[0mclassroom_update\u001b[0m\u001b[1;33m,\u001b[0m\u001b[0mclassroom_del\u001b[0m\u001b[1;33m)\u001b[0m  \u001b[1;31m#静态字段方式定义属性\u001b[0m\u001b[1;33m\u001b[0m\u001b[1;33m\u001b[0m\u001b[0m\n",
      "\u001b[1;31mAttributeError\u001b[0m: 'School' object has no attribute 'age'"
     ]
    }
   ],
   "source": [
    "class School(object):\n",
    "    def __init__(self,name,age):\n",
    "        self.name=name\n",
    "        self.age=age\n",
    "\n",
    "    def classroom(self):\n",
    "        print(self.name,self.age)\n",
    "\n",
    "    def classroom_update(self,age):\n",
    "        self.age=age    #把age修改为传入的参数\n",
    "        print(\"修改\",self.name,self.age)\n",
    "\n",
    "    def classroom_del(self):\n",
    "        del self.age        #删除age\n",
    "        print(\"删除\",self.name,self.age)\n",
    "\n",
    "    obj=property(classroom,classroom_update,classroom_del)  #静态字段方式定义属性\n",
    "\n",
    "#创建对象a1\n",
    "a1=School(\"张三\",18)\n",
    "a1.obj  #1.执行后会自动调用classroom方法\n",
    "a1.obj=20     #2.执行后会自动调用classroom_update的方法，并将20传给age参数\n",
    "del a1.obj    #3.执行后会自动调用classroom_delr的方法"
   ]
  },
  {
   "cell_type": "markdown",
   "metadata": {},
   "source": [
    "## 共有成员和私有成员\n",
    "在类中的每一个成员都有两种形式：公有、私有\n",
    "\n",
    "公有：都可以访问　　　　　　私有：只有在类的内部可以访问\n",
    "\n",
    "举几个例子\n",
    "\n",
    "字段"
   ]
  },
  {
   "cell_type": "code",
   "execution_count": 17,
   "metadata": {
    "ExecuteTime": {
     "end_time": "2019-07-21T08:34:59.767430Z",
     "start_time": "2019-07-21T08:34:59.752445Z"
    }
   },
   "outputs": [
    {
     "name": "stdout",
     "output_type": "stream",
     "text": [
      "张三\n"
     ]
    },
    {
     "ename": "AttributeError",
     "evalue": "'School' object has no attribute 'age'",
     "output_type": "error",
     "traceback": [
      "\u001b[1;31m---------------------------------------------------------------------------\u001b[0m",
      "\u001b[1;31mAttributeError\u001b[0m                            Traceback (most recent call last)",
      "\u001b[1;32m<ipython-input-17-9a45c954148f>\u001b[0m in \u001b[0;36m<module>\u001b[1;34m\u001b[0m\n\u001b[0;32m     16\u001b[0m \u001b[1;31m#访问普通字段\u001b[0m\u001b[1;33m\u001b[0m\u001b[1;33m\u001b[0m\u001b[1;33m\u001b[0m\u001b[0m\n\u001b[0;32m     17\u001b[0m \u001b[0mprint\u001b[0m\u001b[1;33m(\u001b[0m\u001b[0ma1\u001b[0m\u001b[1;33m.\u001b[0m\u001b[0mname\u001b[0m\u001b[1;33m)\u001b[0m  \u001b[1;31m#输出：张三\u001b[0m\u001b[1;33m\u001b[0m\u001b[1;33m\u001b[0m\u001b[0m\n\u001b[1;32m---> 18\u001b[1;33m \u001b[0mprint\u001b[0m\u001b[1;33m(\u001b[0m\u001b[0ma1\u001b[0m\u001b[1;33m.\u001b[0m\u001b[0mage\u001b[0m\u001b[1;33m)\u001b[0m   \u001b[1;31m#报错，提示没有age，因为age是私有字段，只能间接内部访问\u001b[0m\u001b[1;33m\u001b[0m\u001b[1;33m\u001b[0m\u001b[0m\n\u001b[0m\u001b[0;32m     19\u001b[0m \u001b[0ma1\u001b[0m\u001b[1;33m.\u001b[0m\u001b[0mdormitory\u001b[0m\u001b[1;33m(\u001b[0m\u001b[1;33m)\u001b[0m  \u001b[1;31m#只能通过类内部访问私有字段\u001b[0m\u001b[1;33m\u001b[0m\u001b[1;33m\u001b[0m\u001b[0m\n\u001b[0;32m     20\u001b[0m \u001b[1;31m#访问静态字段\u001b[0m\u001b[1;33m\u001b[0m\u001b[1;33m\u001b[0m\u001b[1;33m\u001b[0m\u001b[0m\n",
      "\u001b[1;31mAttributeError\u001b[0m: 'School' object has no attribute 'age'"
     ]
    }
   ],
   "source": [
    "class School(object):\n",
    "    deg=\"狗\" #公有静态字段\n",
    "    __cat=\"猫\"   #私有静态字段\n",
    "    def __init__(self,name,age):\n",
    "        self.name=name  #公有普通字段\n",
    "        self.__age=age  #私有普通字段\n",
    "\n",
    "    def dormitory(self):\n",
    "        print(self.__age)\n",
    "\n",
    "    def cat(self):\n",
    "        print(School.__cat)\n",
    "\n",
    "#创建对象a1\n",
    "a1=School(\"张三\",18)\n",
    "#访问普通字段\n",
    "print(a1.name)  #输出：张三\n",
    "print(a1.age)   #报错，提示没有age，因为age是私有字段，只能间接内部访问\n",
    "a1.dormitory()  #只能通过类内部访问私有字段\n",
    "#访问静态字段\n",
    "print(School.deg)   #输出：狗\n",
    "print(School.__cat) #报错\n",
    "a1.cat()        #输出：猫   可以间接通过内部的cat方法反问私有静态字段"
   ]
  },
  {
   "cell_type": "markdown",
   "metadata": {},
   "source": [
    "方法"
   ]
  },
  {
   "cell_type": "code",
   "execution_count": 18,
   "metadata": {
    "ExecuteTime": {
     "end_time": "2019-07-21T08:35:21.247376Z",
     "start_time": "2019-07-21T08:35:21.232390Z"
    }
   },
   "outputs": [
    {
     "name": "stdout",
     "output_type": "stream",
     "text": [
      "cat\n"
     ]
    },
    {
     "ename": "AttributeError",
     "evalue": "'School' object has no attribute 'dog'",
     "output_type": "error",
     "traceback": [
      "\u001b[1;31m---------------------------------------------------------------------------\u001b[0m",
      "\u001b[1;31mAttributeError\u001b[0m                            Traceback (most recent call last)",
      "\u001b[1;32m<ipython-input-18-84255081343b>\u001b[0m in \u001b[0;36m<module>\u001b[1;34m\u001b[0m\n\u001b[0;32m     16\u001b[0m \u001b[0ma1\u001b[0m\u001b[1;33m=\u001b[0m\u001b[0mSchool\u001b[0m\u001b[1;33m(\u001b[0m\u001b[1;34m\"张三\"\u001b[0m\u001b[1;33m,\u001b[0m\u001b[1;36m18\u001b[0m\u001b[1;33m)\u001b[0m\u001b[1;33m\u001b[0m\u001b[1;33m\u001b[0m\u001b[0m\n\u001b[0;32m     17\u001b[0m \u001b[0ma1\u001b[0m\u001b[1;33m.\u001b[0m\u001b[0mcat\u001b[0m\u001b[1;33m(\u001b[0m\u001b[1;33m)\u001b[0m    \u001b[1;31m#输出：cat\u001b[0m\u001b[1;33m\u001b[0m\u001b[1;33m\u001b[0m\u001b[0m\n\u001b[1;32m---> 18\u001b[1;33m \u001b[0ma1\u001b[0m\u001b[1;33m.\u001b[0m\u001b[0mdog\u001b[0m\u001b[1;33m(\u001b[0m\u001b[1;33m)\u001b[0m    \u001b[1;31m#报错\u001b[0m\u001b[1;33m\u001b[0m\u001b[1;33m\u001b[0m\u001b[0m\n\u001b[0m\u001b[0;32m     19\u001b[0m \u001b[0ma1\u001b[0m\u001b[1;33m.\u001b[0m\u001b[0mdoo\u001b[0m\u001b[1;33m(\u001b[0m\u001b[1;33m)\u001b[0m    \u001b[1;31m#输出：dog  间接通过doo方法反问私有方法__dog\u001b[0m\u001b[1;33m\u001b[0m\u001b[1;33m\u001b[0m\u001b[0m\n",
      "\u001b[1;31mAttributeError\u001b[0m: 'School' object has no attribute 'dog'"
     ]
    }
   ],
   "source": [
    "class School(object):\n",
    "\n",
    "    def __init__(self,name,age):\n",
    "        self.name=name\n",
    "        self.__age=age\n",
    "\n",
    "    def cat(self):  #公有方法\n",
    "        print(\"cat\")\n",
    "\n",
    "    def __dog(self):   #私有方法\n",
    "        print(\"dog\")\n",
    "\n",
    "    def doo(self):  #内部访问私有方法\n",
    "        a1.__dog()\n",
    "#创建对象a1\n",
    "a1=School(\"张三\",18)\n",
    "a1.cat()    #输出：cat\n",
    "a1.dog()    #报错\n",
    "a1.doo()    #输出：dog  间接通过doo方法反问私有方法__dog"
   ]
  },
  {
   "cell_type": "markdown",
   "metadata": {},
   "source": [
    "类中的其他成员也和上面的类似\n",
    "\n",
    "如果想要强制访问私有字段，可以通过(对象._类名__私有字段名)访问，不建议强制访问私有成员。"
   ]
  },
  {
   "cell_type": "markdown",
   "metadata": {},
   "source": [
    "## 类中的特殊成员"
   ]
  },
  {
   "cell_type": "markdown",
   "metadata": {},
   "source": [
    "###  __doc__"
   ]
  },
  {
   "cell_type": "code",
   "execution_count": 19,
   "metadata": {
    "ExecuteTime": {
     "end_time": "2019-07-21T08:36:14.335378Z",
     "start_time": "2019-07-21T08:36:14.328398Z"
    }
   },
   "outputs": [
    {
     "name": "stdout",
     "output_type": "stream",
     "text": [
      "类的描述信息\n"
     ]
    }
   ],
   "source": [
    "class School(object):\n",
    "    \"\"\"类的描述信息\"\"\"\n",
    "    def __init__(self,name,age):\n",
    "        self.name=name\n",
    "        self.__age=age\n",
    "\n",
    "print(School.__doc__)   #输出:类的描述信息"
   ]
  },
  {
   "cell_type": "markdown",
   "metadata": {},
   "source": [
    "### __init__\n",
    "\n",
    "在上面已经说过，在创建对象是自动执行"
   ]
  },
  {
   "cell_type": "markdown",
   "metadata": {},
   "source": [
    "### __del__\n",
    "\n",
    "当对象在内存中被释放时，自动触发执行"
   ]
  },
  {
   "cell_type": "markdown",
   "metadata": {},
   "source": [
    "### __call__\n",
    "\n",
    "在创建的对象后面加括号执行时，会自动执行类里的__call__方法"
   ]
  },
  {
   "cell_type": "code",
   "execution_count": 20,
   "metadata": {
    "ExecuteTime": {
     "end_time": "2019-07-21T08:37:04.492923Z",
     "start_time": "2019-07-21T08:37:04.486968Z"
    }
   },
   "outputs": [
    {
     "name": "stdout",
     "output_type": "stream",
     "text": [
      "触发__call__方法\n",
      "触发__call__方法\n"
     ]
    }
   ],
   "source": [
    "class School(object):\n",
    "\n",
    "    def __call__(self, *args, **kwargs):\n",
    "        print(\"触发__call__方法\")\n",
    "\n",
    "a1=School()\n",
    "a1()    #输出：触发__call__方法\n",
    "School()()  #输出：触发__call__方法"
   ]
  },
  {
   "cell_type": "markdown",
   "metadata": {},
   "source": [
    "### __dict__\n",
    "\n",
    "获取类或对象的所有成员"
   ]
  },
  {
   "cell_type": "code",
   "execution_count": 21,
   "metadata": {
    "ExecuteTime": {
     "end_time": "2019-07-21T08:37:23.366550Z",
     "start_time": "2019-07-21T08:37:23.358571Z"
    }
   },
   "outputs": [
    {
     "name": "stdout",
     "output_type": "stream",
     "text": [
      "{'__module__': '__main__', '__doc__': '类的描述信息', 'cat': '猫', '__init__': <function School.__init__ at 0x005CF5D0>, 'dog': <function School.dog at 0x005CF810>, '__dict__': <attribute '__dict__' of 'School' objects>, '__weakref__': <attribute '__weakref__' of 'School' objects>}\n",
      "{'name': '张三', '_School__age': 18}\n"
     ]
    },
    {
     "data": {
      "text/plain": [
       "\"\\n输出：\\n{'cat': '猫', '__init__': <function School.__init__ at 0x000000000226C950>, '__dict__': <attribute '__dict__' of 'School' objects>, '__weakref__': <attribute '__weakref__' of 'School' objects>, '__module__': '__main__', 'dog': <function School.dog at 0x000000000226CAE8>, '__doc__': '类的描述信息'}\\n{'name': '张三', '_School__age': 18}\\n\""
      ]
     },
     "execution_count": 21,
     "metadata": {},
     "output_type": "execute_result"
    }
   ],
   "source": [
    "class School(object):\n",
    "    \"\"\"类的描述信息\"\"\"\n",
    "    cat=\"猫\"\n",
    "    def __init__(self,name,age):\n",
    "        self.name=name\n",
    "        self.__age=age\n",
    "    def dog(self):\n",
    "        print(\"dog\")\n",
    "\n",
    "print(School.__dict__)  #获取类中的成员\n",
    "a1=School(\"张三\",18)\n",
    "print(a1.__dict__)  #获取对象中的成员\n",
    "'''\n",
    "输出：\n",
    "{'cat': '猫', '__init__': <function School.__init__ at 0x000000000226C950>, '__dict__': <attribute '__dict__' of 'School' objects>, '__weakref__': <attribute '__weakref__' of 'School' objects>, '__module__': '__main__', 'dog': <function School.dog at 0x000000000226CAE8>, '__doc__': '类的描述信息'}\n",
    "{'name': '张三', '_School__age': 18}\n",
    "'''"
   ]
  },
  {
   "cell_type": "markdown",
   "metadata": {},
   "source": [
    "### __str__\n",
    "\n",
    "没有__str__"
   ]
  },
  {
   "cell_type": "code",
   "execution_count": 23,
   "metadata": {
    "ExecuteTime": {
     "end_time": "2019-07-21T08:37:52.786617Z",
     "start_time": "2019-07-21T08:37:52.780633Z"
    }
   },
   "outputs": [
    {
     "name": "stdout",
     "output_type": "stream",
     "text": [
      "<__main__.School object at 0x05C327B0>\n"
     ]
    }
   ],
   "source": [
    "class School(object):\n",
    "    def __init__(self,name,age):\n",
    "        self.name=name\n",
    "        self.__age=age\n",
    "a1=School(\"张三\",18)\n",
    "print(a1)   #输出：<__main__.School object at 0x000000000222B278>"
   ]
  },
  {
   "cell_type": "markdown",
   "metadata": {},
   "source": [
    "有__str__"
   ]
  },
  {
   "cell_type": "code",
   "execution_count": 24,
   "metadata": {
    "ExecuteTime": {
     "end_time": "2019-07-21T08:38:11.248556Z",
     "start_time": "2019-07-21T08:38:11.241574Z"
    }
   },
   "outputs": [
    {
     "name": "stdout",
     "output_type": "stream",
     "text": [
      "print对象时的返回值\n"
     ]
    }
   ],
   "source": [
    "class School(object):\n",
    "    def __init__(self,name,age):\n",
    "        self.name=name\n",
    "        self.__age=age\n",
    "\n",
    "    def __str__(self):\n",
    "        return(\"print对象时的返回值\")\n",
    "a1=School(\"张三\",18)\n",
    "print(a1)   #输出：print对象时的返回值"
   ]
  },
  {
   "cell_type": "markdown",
   "metadata": {
    "ExecuteTime": {
     "end_time": "2019-07-21T08:38:19.889310Z",
     "start_time": "2019-07-21T08:38:19.885330Z"
    }
   },
   "source": [
    "其他的特殊成员就不一一列举了，因为大多数情况下也不会用到"
   ]
  },
  {
   "cell_type": "code",
   "execution_count": null,
   "metadata": {},
   "outputs": [],
   "source": []
  }
 ],
 "metadata": {
  "kernelspec": {
   "display_name": "Python 3",
   "language": "python",
   "name": "python3"
  },
  "language_info": {
   "codemirror_mode": {
    "name": "ipython",
    "version": 3
   },
   "file_extension": ".py",
   "mimetype": "text/x-python",
   "name": "python",
   "nbconvert_exporter": "python",
   "pygments_lexer": "ipython3",
   "version": "3.7.1"
  },
  "toc": {
   "base_numbering": 1,
   "nav_menu": {},
   "number_sections": true,
   "sideBar": true,
   "skip_h1_title": false,
   "title_cell": "Table of Contents",
   "title_sidebar": "Contents",
   "toc_cell": false,
   "toc_position": {},
   "toc_section_display": true,
   "toc_window_display": false
  }
 },
 "nbformat": 4,
 "nbformat_minor": 2
}
