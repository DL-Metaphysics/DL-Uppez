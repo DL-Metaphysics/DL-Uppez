{
 "cells": [
  {
   "cell_type": "code",
   "execution_count": 1,
   "metadata": {
    "ExecuteTime": {
     "end_time": "2019-07-22T01:49:35.911109Z",
     "start_time": "2019-07-22T01:49:35.862241Z"
    },
    "code_folding": []
   },
   "outputs": [
    {
     "name": "stdout",
     "output_type": "stream",
     "text": [
      "测试的正确率为: 100.0 %\n"
     ]
    }
   ],
   "source": [
    "import random\n",
    "import csv\n",
    "import warnings\n",
    "warnings.filterwarnings('ignore')\n",
    "\n",
    "#数据读取\n",
    "with open(\"Iris.csv\",\"r\") as file:\n",
    "    reader = csv.DictReader(file)\n",
    "    datas = [row for row in reader]\n",
    "\n",
    "#分组\n",
    "test_set = datas[40:50] + datas[90:100] + datas[140:150]\n",
    "train_set = datas[0:40] + datas[50:90] + datas[100:140]\n",
    "\n",
    "#采用欧式距离计算\n",
    "def distance(d1,d2):\n",
    "    res = 0\n",
    "    for key in (\"sepallength\" ,\"sepalwidth\" ,\"petallength\" ,\"petalwidth\"):\n",
    "        res += (float(d1[key]) - float(d2[key]))**2\n",
    "    return res**0.5\n",
    "\n",
    "#knn\n",
    "k=3\n",
    "def knn(data):\n",
    "    #距离\n",
    "    res = [{\"结果\":train['labels'],\"距离\":distance(data,train)} for train in train_set]\n",
    "    #print(res)\n",
    "    \n",
    "    #排序--升序\n",
    "    res  = sorted(res,key=lambda item:item['距离'],reverse = False)\n",
    "    #print(res)\n",
    "    \n",
    "    #取前k个\n",
    "    res2 = res[:k]\n",
    "    #print(res2)\n",
    "    \n",
    "    #加权平均\n",
    "    result = {\"Iris-setosa\":0,\"Iris-virginica\":0,\"Iris-versicolor\":0}\n",
    "     #总距离\n",
    "    sum = 0\n",
    "    for r in res2:\n",
    "        sum += r[\"距离\"]\n",
    "    #print(sum)\n",
    "    for r in res2:\n",
    "        result[r['结果']]+=1 - r['距离']/sum\n",
    "    #print(result)\n",
    "    #print(data['labels'])\n",
    "    if  result['Iris-virginica'] > result['Iris-setosa'] and result['Iris-virginica'] > result['Iris-versicolor']:\n",
    "        return 'Iris-virginica'\n",
    "    elif result['Iris-setosa'] > result['Iris-virginica'] and result['Iris-setosa'] > result['Iris-versicolor']:\n",
    "        return 'Iris-setosa'\n",
    "    elif result['Iris-versicolor'] > result['Iris-virginica'] and result['Iris-versicolor'] > result['Iris-setosa']:\n",
    "        return 'Iris-versicolor'\n",
    "    \n",
    "#测试阶段\n",
    "correct = 0\n",
    "for test in test_set:\n",
    "    result = test['labels']\n",
    "    result2 = knn(test)\n",
    "    if result == result2:\n",
    "        correct += 1\n",
    "#print(correct)\n",
    "#print(len(test_set))\n",
    "print(\"测试的正确率为:\",(correct/len(test_set))*100,\"%\")\n",
    "#knn(test_set[22])"
   ]
  },
  {
   "cell_type": "code",
   "execution_count": 2,
   "metadata": {
    "ExecuteTime": {
     "end_time": "2019-07-22T01:49:38.012491Z",
     "start_time": "2019-07-22T01:49:38.006508Z"
    }
   },
   "outputs": [],
   "source": [
    "#采用曼哈顿距离计算\n",
    "def distance(d1,d2):\n",
    "    res = 0\n",
    "    for key in (\"sepallength\" ,\"sepalwidth\" ,\"petallength\" ,\"petalwidth\"):\n",
    "        res += abs((float(d1[key]) - float(d2[key])))\n",
    "    return res"
   ]
  },
  {
   "cell_type": "code",
   "execution_count": null,
   "metadata": {},
   "outputs": [],
   "source": []
  },
  {
   "cell_type": "code",
   "execution_count": null,
   "metadata": {},
   "outputs": [],
   "source": []
  }
 ],
 "metadata": {
  "kernelspec": {
   "display_name": "Python 3",
   "language": "python",
   "name": "python3"
  },
  "language_info": {
   "codemirror_mode": {
    "name": "ipython",
    "version": 3
   },
   "file_extension": ".py",
   "mimetype": "text/x-python",
   "name": "python",
   "nbconvert_exporter": "python",
   "pygments_lexer": "ipython3",
   "version": "3.7.1"
  },
  "toc": {
   "base_numbering": 1,
   "nav_menu": {},
   "number_sections": true,
   "sideBar": true,
   "skip_h1_title": false,
   "title_cell": "Table of Contents",
   "title_sidebar": "Contents",
   "toc_cell": false,
   "toc_position": {},
   "toc_section_display": true,
   "toc_window_display": false
  }
 },
 "nbformat": 4,
 "nbformat_minor": 2
}
